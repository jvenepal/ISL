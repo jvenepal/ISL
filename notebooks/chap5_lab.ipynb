{
 "cells": [
  {
   "cell_type": "code",
   "execution_count": 1,
   "metadata": {},
   "outputs": [],
   "source": [
    "import numpy as np\n",
    "import pandas as pd\n",
    "import matplotlib as mpl\n",
    "import matplotlib.pyplot as plt\n",
    "%matplotlib inline\n",
    "import patsy"
   ]
  },
  {
   "cell_type": "code",
   "execution_count": 4,
   "metadata": {},
   "outputs": [
    {
     "data": {
      "text/html": [
       "<div>\n",
       "<style scoped>\n",
       "    .dataframe tbody tr th:only-of-type {\n",
       "        vertical-align: middle;\n",
       "    }\n",
       "\n",
       "    .dataframe tbody tr th {\n",
       "        vertical-align: top;\n",
       "    }\n",
       "\n",
       "    .dataframe thead th {\n",
       "        text-align: right;\n",
       "    }\n",
       "</style>\n",
       "<table border=\"1\" class=\"dataframe\">\n",
       "  <thead>\n",
       "    <tr style=\"text-align: right;\">\n",
       "      <th></th>\n",
       "      <th>mpg</th>\n",
       "      <th>cylinders</th>\n",
       "      <th>displacement</th>\n",
       "      <th>horsepower</th>\n",
       "      <th>weight</th>\n",
       "      <th>acceleration</th>\n",
       "      <th>year</th>\n",
       "      <th>origin</th>\n",
       "      <th>name</th>\n",
       "    </tr>\n",
       "  </thead>\n",
       "  <tbody>\n",
       "    <tr>\n",
       "      <th>0</th>\n",
       "      <td>18.0</td>\n",
       "      <td>8</td>\n",
       "      <td>307.0</td>\n",
       "      <td>130.0</td>\n",
       "      <td>3504</td>\n",
       "      <td>12.0</td>\n",
       "      <td>70</td>\n",
       "      <td>1</td>\n",
       "      <td>chevrolet chevelle malibu</td>\n",
       "    </tr>\n",
       "    <tr>\n",
       "      <th>1</th>\n",
       "      <td>15.0</td>\n",
       "      <td>8</td>\n",
       "      <td>350.0</td>\n",
       "      <td>165.0</td>\n",
       "      <td>3693</td>\n",
       "      <td>11.5</td>\n",
       "      <td>70</td>\n",
       "      <td>1</td>\n",
       "      <td>buick skylark 320</td>\n",
       "    </tr>\n",
       "    <tr>\n",
       "      <th>2</th>\n",
       "      <td>18.0</td>\n",
       "      <td>8</td>\n",
       "      <td>318.0</td>\n",
       "      <td>150.0</td>\n",
       "      <td>3436</td>\n",
       "      <td>11.0</td>\n",
       "      <td>70</td>\n",
       "      <td>1</td>\n",
       "      <td>plymouth satellite</td>\n",
       "    </tr>\n",
       "    <tr>\n",
       "      <th>3</th>\n",
       "      <td>16.0</td>\n",
       "      <td>8</td>\n",
       "      <td>304.0</td>\n",
       "      <td>150.0</td>\n",
       "      <td>3433</td>\n",
       "      <td>12.0</td>\n",
       "      <td>70</td>\n",
       "      <td>1</td>\n",
       "      <td>amc rebel sst</td>\n",
       "    </tr>\n",
       "    <tr>\n",
       "      <th>4</th>\n",
       "      <td>17.0</td>\n",
       "      <td>8</td>\n",
       "      <td>302.0</td>\n",
       "      <td>140.0</td>\n",
       "      <td>3449</td>\n",
       "      <td>10.5</td>\n",
       "      <td>70</td>\n",
       "      <td>1</td>\n",
       "      <td>ford torino</td>\n",
       "    </tr>\n",
       "  </tbody>\n",
       "</table>\n",
       "</div>"
      ],
      "text/plain": [
       "    mpg  cylinders  displacement  horsepower  weight  acceleration  year  \\\n",
       "0  18.0          8         307.0       130.0    3504          12.0    70   \n",
       "1  15.0          8         350.0       165.0    3693          11.5    70   \n",
       "2  18.0          8         318.0       150.0    3436          11.0    70   \n",
       "3  16.0          8         304.0       150.0    3433          12.0    70   \n",
       "4  17.0          8         302.0       140.0    3449          10.5    70   \n",
       "\n",
       "   origin                       name  \n",
       "0       1  chevrolet chevelle malibu  \n",
       "1       1          buick skylark 320  \n",
       "2       1         plymouth satellite  \n",
       "3       1              amc rebel sst  \n",
       "4       1                ford torino  "
      ]
     },
     "execution_count": 4,
     "metadata": {},
     "output_type": "execute_result"
    }
   ],
   "source": [
    "auto = pd.read_csv('../data/Auto.csv', na_values='?').dropna()\n",
    "auto.head()"
   ]
  },
  {
   "cell_type": "code",
   "execution_count": 6,
   "metadata": {},
   "outputs": [],
   "source": [
    "from sklearn.model_selection import train_test_split\n",
    "\n",
    "train, valid = train_test_split(auto, test_size=0.5, random_state=42)"
   ]
  },
  {
   "cell_type": "markdown",
   "metadata": {},
   "source": [
    "### validation set approach"
   ]
  },
  {
   "cell_type": "code",
   "execution_count": 8,
   "metadata": {},
   "outputs": [],
   "source": [
    "import statsmodels.api as sm\n",
    "import statsmodels.formula.api as smf"
   ]
  },
  {
   "cell_type": "code",
   "execution_count": 13,
   "metadata": {},
   "outputs": [
    {
     "data": {
      "text/plain": [
       "25.573878189684407"
      ]
     },
     "execution_count": 13,
     "metadata": {},
     "output_type": "execute_result"
    }
   ],
   "source": [
    "lm_fit1 = smf.ols('mpg ~ horsepower', data=train).fit()\n",
    "np.mean((valid.mpg - lm_fit1.predict(valid.horsepower))**2)"
   ]
  },
  {
   "cell_type": "code",
   "execution_count": 18,
   "metadata": {},
   "outputs": [
    {
     "data": {
      "text/plain": [
       "22.21802005003901"
      ]
     },
     "execution_count": 18,
     "metadata": {},
     "output_type": "execute_result"
    }
   ],
   "source": [
    "# lm_fit2 = smf.ols('mpg ~ poly(horsepower, 2)', data=train).fit()\n",
    "lm_fit2 = smf.ols('mpg ~ horsepower + I(horsepower**2)', data=train).fit()\n",
    "np.mean((valid.mpg - lm_fit2.predict(valid.horsepower))**2)"
   ]
  },
  {
   "cell_type": "code",
   "execution_count": 20,
   "metadata": {},
   "outputs": [
    {
     "data": {
      "text/plain": [
       "22.667675434958934"
      ]
     },
     "execution_count": 20,
     "metadata": {},
     "output_type": "execute_result"
    }
   ],
   "source": [
    "lm_fit3 = smf.ols('mpg ~ horsepower + I(horsepower**2) + I(horsepower**3)', data=train).fit()\n",
    "np.mean((valid.mpg - lm_fit3.predict(valid.horsepower))**2)"
   ]
  },
  {
   "cell_type": "markdown",
   "metadata": {},
   "source": [
    "### Leave-one-out cv"
   ]
  },
  {
   "cell_type": "code",
   "execution_count": 29,
   "metadata": {},
   "outputs": [],
   "source": [
    "from sklearn.model_selection import LeaveOneOut, KFold\n",
    "from sklearn.metrics import mean_squared_error\n",
    "from sklearn.linear_model import LinearRegression\n",
    "from sklearn.preprocessing import PolynomialFeatures"
   ]
  },
  {
   "cell_type": "code",
   "execution_count": 25,
   "metadata": {},
   "outputs": [
    {
     "data": {
      "text/plain": [
       "24.231513517929226"
      ]
     },
     "execution_count": 25,
     "metadata": {},
     "output_type": "execute_result"
    }
   ],
   "source": [
    "loo_mse = []\n",
    "for train_idx, valid_idx in LeaveOneOut().split(auto):\n",
    "    train, valid = auto.iloc[train_idx], auto.iloc[valid_idx]\n",
    "    X_train, y_train = train[['horsepower']], train['mpg']\n",
    "    X_valid, y_valid = valid[['horsepower']], valid['mpg']\n",
    "    lm = LinearRegression().fit(X_train, y_train)\n",
    "    loo_mse.append(mean_squared_error(y_valid, lm.predict(X_valid)))\n",
    "np.mean(loo_mse)"
   ]
  },
  {
   "cell_type": "code",
   "execution_count": 28,
   "metadata": {},
   "outputs": [
    {
     "data": {
      "text/plain": [
       "[24.231513517929226,\n",
       " 19.24821312448939,\n",
       " 19.334984064114092,\n",
       " 19.424430309411886,\n",
       " 19.033211842978396]"
      ]
     },
     "execution_count": 28,
     "metadata": {},
     "output_type": "execute_result"
    }
   ],
   "source": [
    "degrees = np.arange(1, 6)\n",
    "deg_mse = []\n",
    "for deg in degrees:\n",
    "    loo_mse = []\n",
    "    for train_idx, valid_idx in LeaveOneOut().split(auto):\n",
    "        train, valid = auto.iloc[train_idx], auto.iloc[valid_idx]\n",
    "        X_train, y_train = train[['horsepower']], train['mpg']\n",
    "        X_valid, y_valid = valid[['horsepower']], valid['mpg']\n",
    "        poly = PolynomialFeatures(degree=deg)\n",
    "        X_train_poly = poly.fit_transform(X_train)\n",
    "        X_valid_poly = poly.transform(X_valid)\n",
    "        lm = LinearRegression().fit(X_train_poly, y_train)\n",
    "        loo_mse.append(mean_squared_error(y_valid, lm.predict(X_valid_poly)))\n",
    "    deg_mse.append(np.mean(loo_mse))\n",
    "deg_mse"
   ]
  },
  {
   "cell_type": "markdown",
   "metadata": {},
   "source": [
    "### k-fold cv"
   ]
  },
  {
   "cell_type": "code",
   "execution_count": 39,
   "metadata": {},
   "outputs": [
    {
     "name": "stdout",
     "output_type": "stream",
     "text": [
      "[0 2 3 4 5 6 7 9] [1 8]\n",
      "[1 2 3 4 6 7 8 9] [0 5]\n",
      "[0 1 3 4 5 6 8 9] [2 7]\n",
      "[0 1 2 3 5 6 7 8] [4 9]\n",
      "[0 1 2 4 5 7 8 9] [3 6]\n",
      "[0 2 3 4 5 6 7 9] [1 8]\n",
      "[1 2 3 4 6 7 8 9] [0 5]\n",
      "[0 1 3 4 5 6 8 9] [2 7]\n",
      "[0 1 2 3 5 6 7 8] [4 9]\n",
      "[0 1 2 4 5 7 8 9] [3 6]\n"
     ]
    }
   ],
   "source": [
    "degrees = np.arange(1, 3)\n",
    "deg_mse = []\n",
    "ones = np.ones(10)\n",
    "for deg in degrees:\n",
    "    loo_mse = []\n",
    "    kf = KFold(n_splits=5, shuffle=True, random_state=42)\n",
    "    for train_idx, valid_idx in kf.split(ones): # the idx's returned depends on the length of ones\n",
    "                                                # and will be same for each iteration of degree\n",
    "        print(train_idx, valid_idx)"
   ]
  },
  {
   "cell_type": "code",
   "execution_count": 34,
   "metadata": {},
   "outputs": [
    {
     "data": {
      "text/plain": [
       "[24.199808197692484,\n",
       " 19.228636614267835,\n",
       " 19.266265346704934,\n",
       " 19.351092276514912,\n",
       " 19.02322470453627,\n",
       " 18.95474301224136,\n",
       " 19.07799960256754,\n",
       " 19.15690094766876,\n",
       " 19.06359682272744,\n",
       " 18.885403509750095]"
      ]
     },
     "execution_count": 34,
     "metadata": {},
     "output_type": "execute_result"
    }
   ],
   "source": [
    "degrees = np.arange(1, 11)\n",
    "deg_mse = []\n",
    "for deg in degrees:\n",
    "    loo_mse = []\n",
    "    kf = KFold(n_splits=10, shuffle=True, random_state=42)\n",
    "    for train_idx, valid_idx in kf.split(auto):\n",
    "        train, valid = auto.iloc[train_idx], auto.iloc[valid_idx]\n",
    "        X_train, y_train = train[['horsepower']], train['mpg']\n",
    "        X_valid, y_valid = valid[['horsepower']], valid['mpg']\n",
    "        poly = PolynomialFeatures(degree=deg)\n",
    "        X_train_poly = poly.fit_transform(X_train)\n",
    "        X_valid_poly = poly.transform(X_valid)\n",
    "        lm = LinearRegression().fit(X_train_poly, y_train)\n",
    "        loo_mse.append(mean_squared_error(y_valid, lm.predict(X_valid_poly)))\n",
    "    deg_mse.append(np.mean(loo_mse))\n",
    "deg_mse"
   ]
  },
  {
   "cell_type": "markdown",
   "metadata": {},
   "source": [
    "## Bootstrap"
   ]
  },
  {
   "cell_type": "markdown",
   "metadata": {},
   "source": [
    "I don't know how to do bootstrap yet. TODO"
   ]
  }
 ],
 "metadata": {
  "kernelspec": {
   "display_name": "Python 3",
   "language": "python",
   "name": "python3"
  },
  "language_info": {
   "codemirror_mode": {
    "name": "ipython",
    "version": 3
   },
   "file_extension": ".py",
   "mimetype": "text/x-python",
   "name": "python",
   "nbconvert_exporter": "python",
   "pygments_lexer": "ipython3",
   "version": "3.7.9"
  }
 },
 "nbformat": 4,
 "nbformat_minor": 4
}
