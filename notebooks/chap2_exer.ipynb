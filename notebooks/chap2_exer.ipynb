{
 "cells": [
  {
   "cell_type": "code",
   "execution_count": null,
   "metadata": {},
   "outputs": [],
   "source": [
    "import numpy as np\n",
    "import pandas as pd\n",
    "import matplotlib.pyplot as plt\n",
    "import seaborn as sns; print('Seaborn version is: ', sns.__version__)\n",
    "sns.set()\n",
    "%matplotlib inline"
   ]
  },
  {
   "cell_type": "code",
   "execution_count": null,
   "metadata": {},
   "outputs": [],
   "source": [
    "college = pd.read_csv('../data/College.csv', index_col=0)\n",
    "college.head()"
   ]
  },
  {
   "cell_type": "markdown",
   "metadata": {},
   "source": [
    "## 8"
   ]
  },
  {
   "cell_type": "markdown",
   "metadata": {},
   "source": [
    "### 8.c.1"
   ]
  },
  {
   "cell_type": "code",
   "execution_count": null,
   "metadata": {},
   "outputs": [],
   "source": [
    "college.describe()"
   ]
  },
  {
   "cell_type": "code",
   "execution_count": null,
   "metadata": {},
   "outputs": [],
   "source": [
    "college.info()"
   ]
  },
  {
   "cell_type": "markdown",
   "metadata": {},
   "source": [
    "### 8.c.2"
   ]
  },
  {
   "cell_type": "code",
   "execution_count": null,
   "metadata": {},
   "outputs": [],
   "source": [
    "# pd.plotting.scatter_matrix(college, alpha=0.3, figsize=(18, 18)); # using pandas\n",
    "sns.pairplot(college.iloc[:, 1:11]); # using seaborn"
   ]
  },
  {
   "cell_type": "markdown",
   "metadata": {},
   "source": [
    "### 8.c.3"
   ]
  },
  {
   "cell_type": "code",
   "execution_count": null,
   "metadata": {},
   "outputs": [],
   "source": [
    "sns.boxplot(data=college, x='Private', y='Outstate');"
   ]
  },
  {
   "cell_type": "markdown",
   "metadata": {},
   "source": [
    "### 8.c.4"
   ]
  },
  {
   "cell_type": "code",
   "execution_count": null,
   "metadata": {},
   "outputs": [],
   "source": [
    "college['Elite'] = (college['Top10perc'] > 50)\n",
    "print('There are {0} elite universities'.format(np.sum(college['Elite'])))\n",
    "sns.boxplot(data=college, x='Elite', y='Outstate');"
   ]
  },
  {
   "cell_type": "code",
   "execution_count": null,
   "metadata": {},
   "outputs": [],
   "source": [
    "fig, ax = plt.subplots(2, 2, figsize=(12, 12))\n",
    "sns.histplot(college, x='Apps', ax=ax[0, 0])\n",
    "sns.histplot(college, x='Enroll', ax=ax[0, 1], hue='Private')\n",
    "sns.histplot(college, x='Grad.Rate', ax=ax[1, 0], hue='Private')\n",
    "sns.histplot(college, x='F.Undergrad', ax=ax[1, 1], hue='Private')"
   ]
  },
  {
   "cell_type": "markdown",
   "metadata": {},
   "source": [
    "## 9 Auto data set"
   ]
  },
  {
   "cell_type": "code",
   "execution_count": null,
   "metadata": {},
   "outputs": [],
   "source": [
    "auto = pd.read_csv('../data/Auto.csv', na_values='?')\n",
    "rows_with_missing = auto.loc[auto.isna().any(axis=1)] \n",
    "display(rows_with_missing)\n",
    "\n",
    "print('Shape BEFORE dropping missing values: ', auto.shape)\n",
    "auto.dropna(axis=0, inplace=True)\n",
    "print('Shape AFTER dropping missing values: ', auto.shape)\n",
    "auto.head()"
   ]
  },
  {
   "cell_type": "markdown",
   "metadata": {},
   "source": [
    "### 9.a quantitative and qualitative predictors"
   ]
  },
  {
   "cell_type": "code",
   "execution_count": null,
   "metadata": {},
   "outputs": [],
   "source": [
    "auto.origin.value_counts()"
   ]
  },
  {
   "cell_type": "code",
   "execution_count": null,
   "metadata": {},
   "outputs": [],
   "source": [
    "qual_pred = ['cylinders', 'origin']\n",
    "for qp in qual_pred:\n",
    "    auto[qp] = auto[qp].astype('category')\n",
    "auto.info()"
   ]
  },
  {
   "cell_type": "markdown",
   "metadata": {},
   "source": [
    "### 9.b & 9.c range, mean, std of quantitative predictors"
   ]
  },
  {
   "cell_type": "code",
   "execution_count": null,
   "metadata": {},
   "outputs": [],
   "source": [
    "auto.describe().loc[['mean', 'std']]"
   ]
  },
  {
   "cell_type": "code",
   "execution_count": null,
   "metadata": {},
   "outputs": [],
   "source": [
    "auto.describe().loc['max'] - auto.describe().loc['min']"
   ]
  },
  {
   "cell_type": "code",
   "execution_count": null,
   "metadata": {},
   "outputs": [],
   "source": [
    "auto_new = auto.drop(index=range(10, 86), errors='ignore')\n",
    "print('Shape BEFORE dropping rows 10 through 85: ', auto.shape)\n",
    "print('Shape AFTER dropping rows 10 through 85: ', auto_new.shape)"
   ]
  },
  {
   "cell_type": "code",
   "execution_count": null,
   "metadata": {},
   "outputs": [],
   "source": [
    "auto_new.describe().loc[['mean', 'std']]"
   ]
  },
  {
   "cell_type": "code",
   "execution_count": null,
   "metadata": {},
   "outputs": [],
   "source": [
    "auto_new.describe().loc['max'] - auto_new.describe().loc['min']"
   ]
  },
  {
   "cell_type": "markdown",
   "metadata": {},
   "source": [
    "### 9.e"
   ]
  },
  {
   "cell_type": "code",
   "execution_count": null,
   "metadata": {},
   "outputs": [],
   "source": [
    "sns.pairplot(auto);"
   ]
  },
  {
   "cell_type": "markdown",
   "metadata": {},
   "source": [
    "## 10 Boston data set"
   ]
  },
  {
   "cell_type": "markdown",
   "metadata": {},
   "source": [
    "Columns description \n",
    "- crim per capita crime rate by town.\n",
    "- zn proportion of residential land zoned for lots over 25,000 sq.ft.\n",
    "- indus proportion of non-retail business acres per town.\n",
    "- chas Charles River dummy variable (= 1 if tract bounds river; 0 otherwise).\n",
    "- nox nitrogen oxides concentration (parts per 10 million).\n",
    "- rm average number of rooms per dwelling.\n",
    "- age proportion of owner-occupied units built prior to 1940.\n",
    "- dis weighted mean of distances to five Boston employment centres.\n",
    "- rad index of accessibility to radial highways.\n",
    "- tax full-value property-tax rate per \\$10,000.\n",
    "- ptratio pupil-teacher ratio by town.\n",
    "- black 1000(Bk−0.63)2, where Bk is the proportion of blacks by town.\n",
    "- lstat lower status of the population (percent).\n",
    "- medv median value of owner-occupied homes in $1000s."
   ]
  },
  {
   "cell_type": "code",
   "execution_count": null,
   "metadata": {},
   "outputs": [],
   "source": [
    "boston = pd.read_csv('../data/Boston.csv', index_col=0)\n",
    "boston.head()"
   ]
  },
  {
   "cell_type": "code",
   "execution_count": null,
   "metadata": {},
   "outputs": [],
   "source": [
    "# 10.e\n",
    "boston.chas.value_counts()[1]"
   ]
  },
  {
   "cell_type": "code",
   "execution_count": null,
   "metadata": {},
   "outputs": [],
   "source": [
    "# 10.f\n",
    "boston.ptratio.median()"
   ]
  },
  {
   "cell_type": "code",
   "execution_count": null,
   "metadata": {},
   "outputs": [],
   "source": [
    "# 10.g\n",
    "medv_min = boston[boston.medv == boston.medv.min()]\n",
    "boston.describe().append(medv_min)"
   ]
  },
  {
   "cell_type": "code",
   "execution_count": null,
   "metadata": {},
   "outputs": [],
   "source": [
    "# 10.h\n",
    "print('suburbs with more than 7 & 8 rooms are: {0} & {1}'.format((boston.rm > 7).sum(), (boston.rm > 8).sum()))\n",
    "rm_8 = boston[boston.rm > 8]\n",
    "boston.describe().loc[['mean', 'max']].append(rm_8.describe().loc[['mean', 'max']])"
   ]
  },
  {
   "cell_type": "code",
   "execution_count": null,
   "metadata": {},
   "outputs": [],
   "source": []
  }
 ],
 "metadata": {
  "kernelspec": {
   "display_name": "Python 3",
   "language": "python",
   "name": "python3"
  },
  "language_info": {
   "codemirror_mode": {
    "name": "ipython",
    "version": 3
   },
   "file_extension": ".py",
   "mimetype": "text/x-python",
   "name": "python",
   "nbconvert_exporter": "python",
   "pygments_lexer": "ipython3",
   "version": "3.7.9"
  }
 },
 "nbformat": 4,
 "nbformat_minor": 4
}
